{
 "cells": [
  {
   "cell_type": "code",
   "execution_count": 80,
   "metadata": {},
   "outputs": [],
   "source": [
    "import json\n",
    "import numpy as np\n",
    "import matplotlib.pyplot as plt"
   ]
  },
  {
   "cell_type": "code",
   "execution_count": 158,
   "metadata": {},
   "outputs": [],
   "source": [
    "def convert_to_dat(input, output):\n",
    "\n",
    "    with open(input) as f:\n",
    "        dict_list = json.load(f)\n",
    "    frame_number = len(dict_list)\n",
    "\n",
    "    timestamps = np.zeros(frame_number)\n",
    "    alpha = np.zeros(frame_number)\n",
    "    beta = np.zeros(frame_number)\n",
    "    gamma = np.zeros(frame_number)\n",
    "    for i,dict in enumerate(dict_list):\n",
    "        timestamps[i] = dict['timestamp']\n",
    "        alpha[i] = dict['alpha']\n",
    "        beta[i] = dict['beta']\n",
    "        gamma[i] = dict['gamma']\n",
    "    timestamps -= timestamps[0]\n",
    "    alpha = fix_angle(alpha)\n",
    "    beta = fix_angle(beta)\n",
    "    gamma = fix_angle(gamma)\n",
    "\n",
    "    xyz = []\n",
    "    rxyz = []\n",
    "    for i,dict in enumerate(dict_list):\n",
    "        xyz.append([0, 0, 0, timestamps[i]])\n",
    "        rxyz.append([-beta[i], alpha[i], -gamma[i], timestamps[i]])\n",
    "\n",
    "    text = 'return {\\n\\tbaseaxis={0,0,0},\\n\\txyz={\\n\\t\\t'\n",
    "    for i in range(frame_number):\n",
    "        text += '{' + str(xyz[i][0]) + ',' + str(xyz[i][1]) + ',' + str(xyz[i][2]) + ',' + str(xyz[i][3]) + '}'\n",
    "        if i != frame_number - 1: text += ','\n",
    "    text += '\\n\\t},\\n\\trxyz={\\n\\t\\t'\n",
    "    for i in range(frame_number):\n",
    "        text += '{' + str(rxyz[i][0]) + ',' + str(rxyz[i][1]) + ',' + str(rxyz[i][2]) + ',' + str(rxyz[i][3]) + '}'\n",
    "        if i != frame_number - 1: text += ','\n",
    "    text += '\\n\\t},\\n\\tnormalize={\\n\\t\\t1,1,1\\n\\t}\\n}'\n",
    "\n",
    "    with open(output, mode='w') as f:\n",
    "        f.write(text)\n",
    "\n",
    "def fix_angle(angle):\n",
    "    angle -= angle[0]\n",
    "    for i in range(1,len(angle)):\n",
    "        if angle[i]-angle[i-1] > 240: angle[i] -= 360\n",
    "        elif angle[i]-angle[i-1] < -240: angle[i] += 360\n",
    "        elif angle[i]-angle[i-1] > 120: angle[i] -= 180\n",
    "        elif angle[i]-angle[i-1] < -120: angle[i] += 180\n",
    "    return angle"
   ]
  },
  {
   "cell_type": "code",
   "execution_count": 165,
   "metadata": {},
   "outputs": [],
   "source": [
    "convert_to_dat('test/orientation_2024-10-29 0-41-25.json', 'test/out.dat')"
   ]
  },
  {
   "cell_type": "code",
   "execution_count": null,
   "metadata": {},
   "outputs": [],
   "source": []
  }
 ],
 "metadata": {
  "kernelspec": {
   "display_name": "Python 3",
   "language": "python",
   "name": "python3"
  },
  "language_info": {
   "codemirror_mode": {
    "name": "ipython",
    "version": 3
   },
   "file_extension": ".py",
   "mimetype": "text/x-python",
   "name": "python",
   "nbconvert_exporter": "python",
   "pygments_lexer": "ipython3",
   "version": "3.12.0"
  }
 },
 "nbformat": 4,
 "nbformat_minor": 2
}
